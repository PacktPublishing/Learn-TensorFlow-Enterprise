{
 "cells": [
  {
   "cell_type": "markdown",
   "metadata": {},
   "source": [
    "## Loading original model"
   ]
  },
  {
   "cell_type": "code",
   "execution_count": 1,
   "metadata": {},
   "outputs": [],
   "source": [
    "import tensorflow as tf\n",
    "import pathlib\n",
    "import os\n",
    "import numpy as np\n",
    "from matplotlib.pyplot import imshow\n",
    "import matplotlib.pyplot as plt\n",
    "from sklearn.metrics import accuracy_score"
   ]
  },
  {
   "cell_type": "code",
   "execution_count": 2,
   "metadata": {},
   "outputs": [],
   "source": [
    "root_dir = '../train_base_model'\n",
    "model_dir = 'trained_resnet_vector-unquantized/save_model'\n",
    "saved_model_dir = os.path.join(root_dir, model_dir)"
   ]
  },
  {
   "cell_type": "markdown",
   "metadata": {},
   "source": [
    "## Preparing validation data from TFRecord\n",
    "Loading TFRecord validation data. This is reused here for integer quantization."
   ]
  },
  {
   "cell_type": "code",
   "execution_count": 3,
   "metadata": {},
   "outputs": [],
   "source": [
    "root_dir = '/Users/mbp16/myDocuments/tf_datasets/flower_photos'\n",
    "validation_pattern = \"{}/image_classification_builder-validation.tfrecord*\".format(root_dir)\n",
    "validation_all_files = tf.data.Dataset.list_files( tf.io.gfile.glob(validation_pattern))\n",
    "\n",
    "validation_all_ds = tf.data.TFRecordDataset(validation_all_files, num_parallel_reads=tf.data.experimental.AUTOTUNE)"
   ]
  },
  {
   "cell_type": "code",
   "execution_count": 4,
   "metadata": {},
   "outputs": [
    {
     "name": "stdout",
     "output_type": "stream",
     "text": [
      "Sample size:  80\n"
     ]
    }
   ],
   "source": [
    "sample_size = 0\n",
    "for raw_record in validation_all_ds:\n",
    "    sample_size += 1\n",
    "print('Sample size: ', sample_size)"
   ]
  },
  {
   "cell_type": "markdown",
   "metadata": {},
   "source": [
    "Convert validation data into numpy array, then create a numpy generator."
   ]
  },
  {
   "cell_type": "code",
   "execution_count": 5,
   "metadata": {},
   "outputs": [],
   "source": [
    "def decode_and_resize(serialized_example):\n",
    "    # resized image should be [224, 224, 3] and normalized to value range [0, 255] \n",
    "    # label is integer index of class.\n",
    "    \n",
    "    parsed_features = tf.io.parse_single_example(\n",
    "    serialized_example,\n",
    "    features = {\n",
    "    'image/channels' :  tf.io.FixedLenFeature([], tf.int64),\n",
    "    'image/class/label' :  tf.io.FixedLenFeature([], tf.int64),\n",
    "    'image/class/text' : tf.io.FixedLenFeature([], tf.string),\n",
    "    'image/colorspace' : tf.io.FixedLenFeature([], tf.string),\n",
    "    'image/encoded' : tf.io.FixedLenFeature([], tf.string),\n",
    "    'image/filename' : tf.io.FixedLenFeature([], tf.string),\n",
    "    'image/format' : tf.io.FixedLenFeature([], tf.string),\n",
    "    'image/height' : tf.io.FixedLenFeature([], tf.int64),\n",
    "    'image/width' : tf.io.FixedLenFeature([], tf.int64)\n",
    "    })\n",
    "    image = tf.io.decode_jpeg(parsed_features['image/encoded'], channels=3)\n",
    "    label = tf.cast(parsed_features['image/class/label'], tf.int32)\n",
    "    label_txt = tf.cast(parsed_features['image/class/text'], tf.string)\n",
    "    label_one_hot = tf.one_hot(label, depth = 5)\n",
    "    resized_image = tf.image.resize(image, [224, 224], method='nearest')\n",
    "    return resized_image, label_one_hot\n",
    "\n",
    "def normalize(image, label):\n",
    "    #Convert `image` from [0, 255] -> [0, 1.0] floats \n",
    "    image = tf.cast(image, tf.float32) / 255. \n",
    "    return image, label\n",
    "\n"
   ]
  },
  {
   "cell_type": "code",
   "execution_count": 6,
   "metadata": {},
   "outputs": [],
   "source": [
    "decoded = validation_all_ds.map(decode_and_resize)\n",
    "normed = decoded.map(normalize)"
   ]
  },
  {
   "cell_type": "code",
   "execution_count": 7,
   "metadata": {},
   "outputs": [],
   "source": [
    "np_img_holder = np.empty((0, 224, 224,3), float)\n",
    "np_lbl_holder = np.empty((0, 5), int)\n",
    "for img, lbl in normed:\n",
    "    r = img.numpy() # image value extracted\n",
    "    rx = np.expand_dims(r, axis=0) # expand by adding a dimension for batching images.\n",
    "    lx = np.expand_dims(lbl, axis=0) # expand by adding a dimension for batching labels.\n",
    "    np_img_holder = np.append(np_img_holder, rx, axis=0) # append each image to create a batch of images.\n",
    "    np_lbl_holder = np.append(np_lbl_holder, lx, axis=0) # append each one-hot label to create a batch of labels."
   ]
  },
  {
   "cell_type": "code",
   "execution_count": 8,
   "metadata": {},
   "outputs": [
    {
     "data": {
      "text/plain": [
       "(80, 224, 224, 3)"
      ]
     },
     "execution_count": 8,
     "metadata": {},
     "output_type": "execute_result"
    }
   ],
   "source": [
    "np_img_holder.shape"
   ]
  },
  {
   "cell_type": "code",
   "execution_count": 9,
   "metadata": {},
   "outputs": [
    {
     "data": {
      "text/plain": [
       "numpy.ndarray"
      ]
     },
     "execution_count": 9,
     "metadata": {},
     "output_type": "execute_result"
    }
   ],
   "source": [
    "type(np_img_holder)"
   ]
  },
  {
   "cell_type": "code",
   "execution_count": 10,
   "metadata": {},
   "outputs": [
    {
     "data": {
      "text/plain": [
       "array([[[[0.8039216 , 0.03529412, 0.12156863],\n",
       "         [0.7921569 , 0.01176471, 0.13333334],\n",
       "         [0.8352941 , 0.04705882, 0.18039216],\n",
       "         ...,\n",
       "         [0.6117647 , 0.48235294, 0.50980395],\n",
       "         [0.5058824 , 0.38431373, 0.40784314],\n",
       "         [0.21960784, 0.05490196, 0.09411765]],\n",
       "\n",
       "        [[0.76862746, 0.01176471, 0.07843138],\n",
       "         [0.75686276, 0.        , 0.10588235],\n",
       "         [0.8039216 , 0.03137255, 0.14901961],\n",
       "         ...,\n",
       "         [0.5647059 , 0.43529412, 0.4627451 ],\n",
       "         [0.56078434, 0.4392157 , 0.4627451 ],\n",
       "         [0.32941177, 0.18431373, 0.21568628]],\n",
       "\n",
       "        [[0.7411765 , 0.01568628, 0.04705882],\n",
       "         [0.7176471 , 0.00784314, 0.07450981],\n",
       "         [0.75686276, 0.02745098, 0.10980392],\n",
       "         ...,\n",
       "         [0.5254902 , 0.4       , 0.41960785],\n",
       "         [0.45490196, 0.33333334, 0.35686275],\n",
       "         [0.3882353 , 0.26666668, 0.29803923]],\n",
       "\n",
       "        ...,\n",
       "\n",
       "        [[0.08627451, 0.14117648, 0.03921569],\n",
       "         [0.27058825, 0.16078432, 0.14509805],\n",
       "         [0.5137255 , 0.2784314 , 0.3254902 ],\n",
       "         ...,\n",
       "         [0.5176471 , 0.08627451, 0.09019608],\n",
       "         [0.5019608 , 0.10980392, 0.10980392],\n",
       "         [0.4       , 0.13333334, 0.12941177]],\n",
       "\n",
       "        [[0.05098039, 0.08627451, 0.        ],\n",
       "         [0.3137255 , 0.16862746, 0.2       ],\n",
       "         [0.53333336, 0.25882354, 0.36078432],\n",
       "         ...,\n",
       "         [0.5019608 , 0.04705882, 0.05882353],\n",
       "         [0.44705883, 0.03137255, 0.04705882],\n",
       "         [0.37254903, 0.03137255, 0.06666667]],\n",
       "\n",
       "        [[0.06666667, 0.09019608, 0.        ],\n",
       "         [0.34117648, 0.18039216, 0.24313726],\n",
       "         [0.5176471 , 0.22352941, 0.34509805],\n",
       "         ...,\n",
       "         [0.52156866, 0.04705882, 0.06666667],\n",
       "         [0.4509804 , 0.01568628, 0.03921569],\n",
       "         [0.36862746, 0.        , 0.04705882]]],\n",
       "\n",
       "\n",
       "       [[[0.9843137 , 1.        , 0.98039216],\n",
       "         [0.9843137 , 1.        , 0.98039216],\n",
       "         [0.9843137 , 1.        , 0.98039216],\n",
       "         ...,\n",
       "         [0.96862745, 0.654902  , 0.69803923],\n",
       "         [0.9607843 , 0.65882355, 0.68235296],\n",
       "         [0.95686275, 0.68235296, 0.68235296]],\n",
       "\n",
       "        [[0.9843137 , 1.        , 0.98039216],\n",
       "         [0.9843137 , 1.        , 0.98039216],\n",
       "         [0.9843137 , 1.        , 0.98039216],\n",
       "         ...,\n",
       "         [0.9607843 , 0.65882355, 0.69803923],\n",
       "         [0.9647059 , 0.67058825, 0.69803923],\n",
       "         [0.9372549 , 0.6666667 , 0.6784314 ]],\n",
       "\n",
       "        [[0.99215686, 1.        , 0.9882353 ],\n",
       "         [0.99215686, 1.        , 0.9882353 ],\n",
       "         [0.9882353 , 0.99607843, 0.9843137 ],\n",
       "         ...,\n",
       "         [0.94509804, 0.64705884, 0.6862745 ],\n",
       "         [0.9411765 , 0.654902  , 0.6901961 ],\n",
       "         [0.972549  , 0.7137255 , 0.7529412 ]],\n",
       "\n",
       "        ...,\n",
       "\n",
       "        [[0.8666667 , 0.62352943, 0.80784315],\n",
       "         [0.8745098 , 0.6392157 , 0.8392157 ],\n",
       "         [0.87058824, 0.6431373 , 0.8392157 ],\n",
       "         ...,\n",
       "         [0.64705884, 0.28627452, 0.30588236],\n",
       "         [0.6627451 , 0.3019608 , 0.32156864],\n",
       "         [0.6627451 , 0.3019608 , 0.3137255 ]],\n",
       "\n",
       "        [[0.8627451 , 0.6156863 , 0.7921569 ],\n",
       "         [0.8784314 , 0.63529414, 0.827451  ],\n",
       "         [0.8745098 , 0.6431373 , 0.83137256],\n",
       "         ...,\n",
       "         [0.6862745 , 0.32156864, 0.3647059 ],\n",
       "         [0.6784314 , 0.3137255 , 0.3529412 ],\n",
       "         [0.654902  , 0.29411766, 0.3137255 ]],\n",
       "\n",
       "        [[0.8745098 , 0.627451  , 0.79607844],\n",
       "         [0.8745098 , 0.6313726 , 0.8156863 ],\n",
       "         [0.8784314 , 0.63529414, 0.827451  ],\n",
       "         ...,\n",
       "         [0.7137255 , 0.34509805, 0.40784314],\n",
       "         [0.6862745 , 0.32156864, 0.3647059 ],\n",
       "         [0.6627451 , 0.29803923, 0.32941177]]],\n",
       "\n",
       "\n",
       "       [[[0.2       , 0.3254902 , 0.26666668],\n",
       "         [0.1882353 , 0.30980393, 0.24705882],\n",
       "         [0.18039216, 0.3019608 , 0.23921569],\n",
       "         ...,\n",
       "         [0.21568628, 0.30588236, 0.        ],\n",
       "         [0.19215687, 0.29803923, 0.        ],\n",
       "         [0.20784314, 0.33333334, 0.03529412]],\n",
       "\n",
       "        [[0.18039216, 0.3019608 , 0.24313726],\n",
       "         [0.14509805, 0.26666668, 0.20392157],\n",
       "         [0.14117648, 0.2509804 , 0.19215687],\n",
       "         ...,\n",
       "         [0.2509804 , 0.34117648, 0.02745098],\n",
       "         [0.24705882, 0.34117648, 0.03529412],\n",
       "         [0.21176471, 0.33333334, 0.01960784]],\n",
       "\n",
       "        [[0.14117648, 0.2509804 , 0.19215687],\n",
       "         [0.10980392, 0.21960784, 0.16470589],\n",
       "         [0.10588235, 0.20784314, 0.15686275],\n",
       "         ...,\n",
       "         [0.27450982, 0.36078432, 0.03529412],\n",
       "         [0.28235295, 0.37254903, 0.05098039],\n",
       "         [0.23137255, 0.34901962, 0.01176471]],\n",
       "\n",
       "        ...,\n",
       "\n",
       "        [[0.05098039, 0.07450981, 0.03529412],\n",
       "         [0.03921569, 0.06666667, 0.03529412],\n",
       "         [0.02352941, 0.05098039, 0.02352941],\n",
       "         ...,\n",
       "         [0.25882354, 0.34117648, 0.21960784],\n",
       "         [0.25490198, 0.34509805, 0.24313726],\n",
       "         [0.15294118, 0.24313726, 0.18039216]],\n",
       "\n",
       "        [[0.03921569, 0.0627451 , 0.01568628],\n",
       "         [0.04313726, 0.0627451 , 0.03529412],\n",
       "         [0.03529412, 0.05490196, 0.03137255],\n",
       "         ...,\n",
       "         [0.20784314, 0.2901961 , 0.16078432],\n",
       "         [0.20392157, 0.29803923, 0.19607843],\n",
       "         [0.14901961, 0.2627451 , 0.18431373]],\n",
       "\n",
       "        [[0.03137255, 0.05490196, 0.        ],\n",
       "         [0.05098039, 0.07450981, 0.03529412],\n",
       "         [0.04313726, 0.0627451 , 0.03921569],\n",
       "         ...,\n",
       "         [0.14117648, 0.22352941, 0.09411765],\n",
       "         [0.14117648, 0.23921569, 0.1254902 ],\n",
       "         [0.13333334, 0.25882354, 0.16862746]]],\n",
       "\n",
       "\n",
       "       ...,\n",
       "\n",
       "\n",
       "       [[[0.5137255 , 0.68235296, 0.9882353 ],\n",
       "         [0.5137255 , 0.68235296, 0.9882353 ],\n",
       "         [0.5137255 , 0.68235296, 0.9882353 ],\n",
       "         ...,\n",
       "         [0.47843137, 0.6431373 , 0.9411765 ],\n",
       "         [0.47843137, 0.6431373 , 0.9411765 ],\n",
       "         [0.4745098 , 0.6392157 , 0.9372549 ]],\n",
       "\n",
       "        [[0.5176471 , 0.6862745 , 0.99215686],\n",
       "         [0.5176471 , 0.6862745 , 0.99215686],\n",
       "         [0.5176471 , 0.6862745 , 0.99215686],\n",
       "         ...,\n",
       "         [0.47843137, 0.6431373 , 0.9411765 ],\n",
       "         [0.47843137, 0.6431373 , 0.9411765 ],\n",
       "         [0.4745098 , 0.6392157 , 0.9372549 ]],\n",
       "\n",
       "        [[0.5176471 , 0.6901961 , 0.9843137 ],\n",
       "         [0.5176471 , 0.6901961 , 0.9843137 ],\n",
       "         [0.5176471 , 0.6901961 , 0.9843137 ],\n",
       "         ...,\n",
       "         [0.47843137, 0.6392157 , 0.9490196 ],\n",
       "         [0.47843137, 0.6392157 , 0.9490196 ],\n",
       "         [0.47843137, 0.6392157 , 0.9490196 ]],\n",
       "\n",
       "        ...,\n",
       "\n",
       "        [[0.64705884, 0.72156864, 0.26666668],\n",
       "         [0.61960787, 0.7019608 , 0.20392157],\n",
       "         [0.61960787, 0.7019608 , 0.20392157],\n",
       "         ...,\n",
       "         [0.5529412 , 0.6392157 , 0.49803922],\n",
       "         [0.5529412 , 0.6392157 , 0.49803922],\n",
       "         [0.41568628, 0.52156866, 0.44705883]],\n",
       "\n",
       "        [[0.6039216 , 0.6862745 , 0.14117648],\n",
       "         [0.6       , 0.6862745 , 0.11764706],\n",
       "         [0.6       , 0.6862745 , 0.11764706],\n",
       "         ...,\n",
       "         [0.3882353 , 0.47843137, 0.40784314],\n",
       "         [0.3882353 , 0.47843137, 0.40784314],\n",
       "         [0.3372549 , 0.44705883, 0.4627451 ]],\n",
       "\n",
       "        [[0.6509804 , 0.7411765 , 0.14509805],\n",
       "         [0.62352943, 0.7137255 , 0.11372549],\n",
       "         [0.62352943, 0.7137255 , 0.11372549],\n",
       "         ...,\n",
       "         [0.2784314 , 0.36862746, 0.32941177],\n",
       "         [0.2784314 , 0.36862746, 0.32941177],\n",
       "         [0.36862746, 0.48235294, 0.54509807]]],\n",
       "\n",
       "\n",
       "       [[[0.8509804 , 0.9098039 , 0.5764706 ],\n",
       "         [0.7529412 , 0.827451  , 0.70980394],\n",
       "         [0.7529412 , 0.8392157 , 0.7882353 ],\n",
       "         ...,\n",
       "         [0.7411765 , 0.85490197, 0.78431374],\n",
       "         [0.74509805, 0.8509804 , 0.7137255 ],\n",
       "         [0.81960785, 0.91764706, 0.56078434]],\n",
       "\n",
       "        [[0.7294118 , 0.79607844, 0.5294118 ],\n",
       "         [0.34509805, 0.42352942, 0.3764706 ],\n",
       "         [0.33333334, 0.42745098, 0.44313726],\n",
       "         ...,\n",
       "         [0.28627452, 0.40392157, 0.40392157],\n",
       "         [0.36078432, 0.46666667, 0.4       ],\n",
       "         [0.7137255 , 0.8039216 , 0.52156866]],\n",
       "\n",
       "        [[0.76862746, 0.8509804 , 0.72156864],\n",
       "         [0.46666667, 0.5647059 , 0.6509804 ],\n",
       "         [0.42745098, 0.5372549 , 0.6901961 ],\n",
       "         ...,\n",
       "         [0.42745098, 0.54509807, 0.69411767],\n",
       "         [0.43529412, 0.5411765 , 0.62352943],\n",
       "         [0.7294118 , 0.8235294 , 0.6901961 ]],\n",
       "\n",
       "        ...,\n",
       "\n",
       "        [[0.7529412 , 0.8980392 , 0.7647059 ],\n",
       "         [0.5411765 , 0.6627451 , 0.84705883],\n",
       "         [0.5176471 , 0.6313726 , 0.92941177],\n",
       "         ...,\n",
       "         [0.49411765, 0.5803922 , 0.5294118 ],\n",
       "         [0.6156863 , 0.7058824 , 0.6745098 ],\n",
       "         [0.78039217, 0.8745098 , 0.77254903]],\n",
       "\n",
       "        [[0.69411767, 0.80784315, 0.5803922 ],\n",
       "         [0.54509807, 0.6392157 , 0.6392157 ],\n",
       "         [0.5294118 , 0.61960787, 0.6901961 ],\n",
       "         ...,\n",
       "         [0.45490196, 0.5254902 , 0.29803923],\n",
       "         [0.7176471 , 0.79607844, 0.59607846],\n",
       "         [0.73333335, 0.81960785, 0.5686275 ]],\n",
       "\n",
       "        [[0.9098039 , 0.9372549 , 0.5294118 ],\n",
       "         [0.827451  , 0.85882354, 0.4627451 ],\n",
       "         [0.827451  , 0.87058824, 0.47058824],\n",
       "         ...,\n",
       "         [0.72156864, 0.7647059 , 0.2627451 ],\n",
       "         [0.8156863 , 0.8745098 , 0.38431373],\n",
       "         [0.8627451 , 0.9254902 , 0.40784314]]],\n",
       "\n",
       "\n",
       "       [[[0.41960785, 0.42352942, 0.36078432],\n",
       "         [0.40784314, 0.4117647 , 0.35686275],\n",
       "         [0.43137255, 0.43137255, 0.38431373],\n",
       "         ...,\n",
       "         [0.35686275, 0.35686275, 0.31764707],\n",
       "         [0.35686275, 0.36078432, 0.3372549 ],\n",
       "         [0.32941177, 0.34117648, 0.3137255 ]],\n",
       "\n",
       "        [[0.39215687, 0.39607844, 0.33333334],\n",
       "         [0.41568628, 0.41960785, 0.3647059 ],\n",
       "         [0.4117647 , 0.4117647 , 0.3647059 ],\n",
       "         ...,\n",
       "         [0.3529412 , 0.3529412 , 0.32156864],\n",
       "         [0.34509805, 0.34901962, 0.31764707],\n",
       "         [0.34509805, 0.3529412 , 0.30980393]],\n",
       "\n",
       "        [[0.4117647 , 0.41568628, 0.36078432],\n",
       "         [0.4117647 , 0.4117647 , 0.3647059 ],\n",
       "         [0.42745098, 0.42745098, 0.38039216],\n",
       "         ...,\n",
       "         [0.35686275, 0.3529412 , 0.3372549 ],\n",
       "         [0.3529412 , 0.34901962, 0.32941177],\n",
       "         [0.35686275, 0.3529412 , 0.33333334]],\n",
       "\n",
       "        ...,\n",
       "\n",
       "        [[0.5254902 , 0.5294118 , 0.4745098 ],\n",
       "         [0.5019608 , 0.50980395, 0.46666667],\n",
       "         [0.47843137, 0.49019608, 0.4627451 ],\n",
       "         ...,\n",
       "         [0.3137255 , 0.3137255 , 0.26666668],\n",
       "         [0.3019608 , 0.3019608 , 0.2627451 ],\n",
       "         [0.30588236, 0.3137255 , 0.27058825]],\n",
       "\n",
       "        [[0.56078434, 0.5529412 , 0.5019608 ],\n",
       "         [0.52156866, 0.52156866, 0.48235294],\n",
       "         [0.49803922, 0.50980395, 0.48235294],\n",
       "         ...,\n",
       "         [0.34901962, 0.34901962, 0.3019608 ],\n",
       "         [0.34509805, 0.34509805, 0.30588236],\n",
       "         [0.34901962, 0.3529412 , 0.32156864]],\n",
       "\n",
       "        [[0.5921569 , 0.58431375, 0.53333336],\n",
       "         [0.5411765 , 0.5411765 , 0.5019608 ],\n",
       "         [0.5176471 , 0.5294118 , 0.49411765],\n",
       "         ...,\n",
       "         [0.37254903, 0.37254903, 0.33333334],\n",
       "         [0.3764706 , 0.3764706 , 0.34509805],\n",
       "         [0.3647059 , 0.3764706 , 0.34901962]]]], dtype=float32)"
      ]
     },
     "execution_count": 10,
     "metadata": {},
     "output_type": "execute_result"
    }
   ],
   "source": [
    "np_img_holder.astype(np.float32)"
   ]
  },
  {
   "cell_type": "markdown",
   "metadata": {},
   "source": [
    "## Converting full model to TFLite integer-only quantization model"
   ]
  },
  {
   "cell_type": "code",
   "execution_count": 11,
   "metadata": {},
   "outputs": [],
   "source": [
    "#tf.dtypes.cast(np_img_holder, tf.float32)\n",
    "\n",
    "def data_generator():\n",
    "  for input_tensor in tf.data.Dataset.from_tensor_slices(np_img_holder.astype(np.float32)).batch(1).take(sample_size):\n",
    "    yield [input_tensor]"
   ]
  },
  {
   "cell_type": "code",
   "execution_count": 12,
   "metadata": {},
   "outputs": [],
   "source": [
    "converter = tf.lite.TFLiteConverter.from_saved_model(saved_model_dir)\n",
    "converter.optimizations = [tf.lite.Optimize.DEFAULT]\n",
    "converter.representative_dataset = data_generator\n",
    "# Ensure that if any ops can't be quantized, the converter throws an error\n",
    "converter.target_spec.supported_ops = [tf.lite.OpsSet.TFLITE_BUILTINS_INT8]\n",
    "# Set the input and output tensors to uint8 (APIs added in r2.3)\n",
    "converter.inference_input_type = tf.uint8\n",
    "converter.inference_output_type = tf.uint8\n",
    "\n",
    "tflite_model_quant = converter.convert()"
   ]
  },
  {
   "cell_type": "code",
   "execution_count": 13,
   "metadata": {},
   "outputs": [
    {
     "name": "stdout",
     "output_type": "stream",
     "text": [
      "input:  <class 'numpy.uint8'>\n",
      "output:  <class 'numpy.uint8'>\n"
     ]
    }
   ],
   "source": [
    "# This requires r2.3 API\n",
    "interpreter = tf.lite.Interpreter(model_content=tflite_model_quant)\n",
    "input_type = interpreter.get_input_details()[0]['dtype']\n",
    "print('input: ', input_type)\n",
    "output_type = interpreter.get_output_details()[0]['dtype']\n",
    "print('output: ', output_type)\n"
   ]
  },
  {
   "cell_type": "markdown",
   "metadata": {},
   "source": [
    "Save TFLite model"
   ]
  },
  {
   "cell_type": "code",
   "execution_count": 14,
   "metadata": {},
   "outputs": [],
   "source": [
    "root_dir = '/Users/mbp16/Documents/vs_code/python/ScriptProject'\n",
    "tflite_models_dir = 'trained_resnet_vector-20200910-213303/tflite_int8_model'\n",
    "\n",
    "to_save_tflite_model_dir = os.path.join(root_dir, tflite_models_dir)\n",
    "saved_tflite_models_dir = pathlib.Path(to_save_tflite_model_dir) #convert string to pathlib object\n",
    "saved_tflite_models_dir.mkdir(exist_ok=True, parents=True) # make directory"
   ]
  },
  {
   "cell_type": "code",
   "execution_count": 15,
   "metadata": {},
   "outputs": [
    {
     "data": {
      "text/plain": [
       "24727776"
      ]
     },
     "execution_count": 15,
     "metadata": {},
     "output_type": "execute_result"
    }
   ],
   "source": [
    "# Create a pathlib object to save quantized model with path and file name.\n",
    "tgt = pathlib.Path(to_save_tflite_model_dir, 'converted_model_reduced.tflite')\n",
    "# Write quantized model to the file.\n",
    "tgt.write_bytes(tflite_model_quant)"
   ]
  },
  {
   "cell_type": "code",
   "execution_count": 16,
   "metadata": {},
   "outputs": [
    {
     "data": {
      "text/plain": [
       "'/Users/mbp16/Documents/projects/tf23/bin/python3.8'"
      ]
     },
     "execution_count": 16,
     "metadata": {},
     "output_type": "execute_result"
    }
   ],
   "source": [
    "import sys\n",
    "sys.executable"
   ]
  },
  {
   "cell_type": "code",
   "execution_count": 17,
   "metadata": {},
   "outputs": [
    {
     "name": "stdout",
     "output_type": "stream",
     "text": [
      "2.3.0\n"
     ]
    }
   ],
   "source": [
    "print(tf.__version__)"
   ]
  },
  {
   "cell_type": "code",
   "execution_count": null,
   "metadata": {},
   "outputs": [],
   "source": []
  }
 ],
 "metadata": {
  "kernelspec": {
   "display_name": "Python 3",
   "language": "python",
   "name": "python3"
  },
  "language_info": {
   "codemirror_mode": {
    "name": "ipython",
    "version": 3
   },
   "file_extension": ".py",
   "mimetype": "text/x-python",
   "name": "python",
   "nbconvert_exporter": "python",
   "pygments_lexer": "ipython3",
   "version": "3.8.5"
  }
 },
 "nbformat": 4,
 "nbformat_minor": 4
}
