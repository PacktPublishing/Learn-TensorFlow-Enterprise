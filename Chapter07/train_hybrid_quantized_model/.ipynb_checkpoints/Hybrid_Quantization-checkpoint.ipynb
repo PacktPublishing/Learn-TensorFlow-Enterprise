{
 "cells": [
  {
   "cell_type": "markdown",
   "metadata": {},
   "source": [
    "## Load original model"
   ]
  },
  {
   "cell_type": "code",
   "execution_count": 1,
   "metadata": {},
   "outputs": [],
   "source": [
    "import tensorflow as tf\n",
    "import pathlib\n",
    "import os\n",
    "import numpy as np\n",
    "from matplotlib.pyplot import imshow\n",
    "import matplotlib.pyplot as plt\n",
    "from sklearn.metrics import accuracy_score"
   ]
  },
  {
   "cell_type": "code",
   "execution_count": 2,
   "metadata": {},
   "outputs": [],
   "source": [
    "root_dir = '../train_base_model'\n",
    "model_dir = 'trained_resnet_vector-unquantized/save_model'\n",
    "saved_model_dir = os.path.join(root_dir, model_dir)"
   ]
  },
  {
   "cell_type": "code",
   "execution_count": 5,
   "metadata": {},
   "outputs": [],
   "source": [
    "trained_model = tf.saved_model.load(saved_model_dir)"
   ]
  },
  {
   "cell_type": "code",
   "execution_count": 6,
   "metadata": {},
   "outputs": [
    {
     "data": {
      "text/plain": [
       "['serving_default']"
      ]
     },
     "execution_count": 6,
     "metadata": {},
     "output_type": "execute_result"
    }
   ],
   "source": [
    "list(trained_model.signatures.keys())"
   ]
  },
  {
   "cell_type": "markdown",
   "metadata": {},
   "source": [
    "## Converting full model to TFLite hybrid quantization model"
   ]
  },
  {
   "cell_type": "markdown",
   "metadata": {},
   "source": [
    "Create a converter object from a SavedModel directory."
   ]
  },
  {
   "cell_type": "code",
   "execution_count": 7,
   "metadata": {},
   "outputs": [],
   "source": [
    "converter = tf.lite.TFLiteConverter.from_saved_model(saved_model_dir)"
   ]
  },
  {
   "cell_type": "code",
   "execution_count": 8,
   "metadata": {},
   "outputs": [],
   "source": [
    "converter.optimizations = [tf.lite.Optimize.DEFAULT]\n",
    "tflite_model = converter.convert()"
   ]
  },
  {
   "cell_type": "markdown",
   "metadata": {},
   "source": [
    "Save TFLite model"
   ]
  },
  {
   "cell_type": "code",
   "execution_count": 9,
   "metadata": {},
   "outputs": [],
   "source": [
    "root_dir = '' # Leave it empty, we want to stay in the current directory as we create a subdirectory with next line. \n",
    "tflite_models_dir = 'tflite_hybrid_model'\n",
    "\n",
    "to_save_tflite_model_dir = os.path.join(root_dir, tflite_models_dir)\n",
    "saved_tflite_models_dir = pathlib.Path(to_save_tflite_model_dir) #convert string to pathlib object\n",
    "saved_tflite_models_dir.mkdir(exist_ok=True, parents=True) # make directory"
   ]
  },
  {
   "cell_type": "code",
   "execution_count": 14,
   "metadata": {},
   "outputs": [
    {
     "data": {
      "text/plain": [
       "23959104"
      ]
     },
     "execution_count": 14,
     "metadata": {},
     "output_type": "execute_result"
    }
   ],
   "source": [
    "# Create a pathlib object to save quantized model with path and file name.\n",
    "tgt = pathlib.Path(to_save_tflite_model_dir, 'converted_model_hybrid.tflite')\n",
    "# Write quantized model to the file.\n",
    "tgt.write_bytes(tflite_model)"
   ]
  },
  {
   "cell_type": "markdown",
   "metadata": {},
   "source": [
    "We wrote a TFLite hybrid quantization model to `tflite_hybrid_model` folder. Mode name is `converted_model_hybrid.tflite`. It's size is 23 MB."
   ]
  },
  {
   "cell_type": "markdown",
   "metadata": {},
   "source": [
    "## Preparing test data from TFRecord\n",
    "Loading TFRecord test data"
   ]
  },
  {
   "cell_type": "code",
   "execution_count": 16,
   "metadata": {},
   "outputs": [],
   "source": [
    "root_dir = '../train_base_model/tf_datasets/flower_photos'\n",
    "test_pattern = \"{}/image_classification_builder-test.tfrecord*\".format(root_dir)\n",
    "test_all_files = tf.data.Dataset.list_files( tf.io.gfile.glob(test_pattern))\n",
    "\n",
    "test_all_ds = tf.data.TFRecordDataset(test_all_files, num_parallel_reads=tf.data.experimental.AUTOTUNE)"
   ]
  },
  {
   "cell_type": "code",
   "execution_count": 17,
   "metadata": {},
   "outputs": [
    {
     "name": "stdout",
     "output_type": "stream",
     "text": [
      "Sample size:  50\n"
     ]
    }
   ],
   "source": [
    "sample_size = 0\n",
    "for raw_record in test_all_ds:\n",
    "    sample_size += 1\n",
    "print('Sample size: ', sample_size)"
   ]
  },
  {
   "cell_type": "markdown",
   "metadata": {},
   "source": [
    "Helper function"
   ]
  },
  {
   "cell_type": "code",
   "execution_count": 18,
   "metadata": {},
   "outputs": [],
   "source": [
    "def decode_and_resize(serialized_example):\n",
    "    # resized image should be [224, 224, 3] and normalized to value range [0, 255] \n",
    "    # label is integer index of class.\n",
    "    \n",
    "    parsed_features = tf.io.parse_single_example(\n",
    "    serialized_example,\n",
    "    features = {\n",
    "    'image/channels' :  tf.io.FixedLenFeature([], tf.int64),\n",
    "    'image/class/label' :  tf.io.FixedLenFeature([], tf.int64),\n",
    "    'image/class/text' : tf.io.FixedLenFeature([], tf.string),\n",
    "    'image/colorspace' : tf.io.FixedLenFeature([], tf.string),\n",
    "    'image/encoded' : tf.io.FixedLenFeature([], tf.string),\n",
    "    'image/filename' : tf.io.FixedLenFeature([], tf.string),\n",
    "    'image/format' : tf.io.FixedLenFeature([], tf.string),\n",
    "    'image/height' : tf.io.FixedLenFeature([], tf.int64),\n",
    "    'image/width' : tf.io.FixedLenFeature([], tf.int64)\n",
    "    })\n",
    "    image = tf.io.decode_jpeg(parsed_features['image/encoded'], channels=3)\n",
    "    label = tf.cast(parsed_features['image/class/label'], tf.int32)\n",
    "    label_txt = tf.cast(parsed_features['image/class/text'], tf.string)\n",
    "    label_one_hot = tf.one_hot(label, depth = 5)\n",
    "    resized_image = tf.image.resize(image, [224, 224], method='nearest')\n",
    "    return resized_image, label_one_hot\n",
    "\n",
    "def normalize(image, label):\n",
    "    #Convert `image` from [0, 255] -> [0, 1.0] floats \n",
    "    image = tf.cast(image, tf.float32) / 255. \n",
    "    return image, label\n"
   ]
  },
  {
   "cell_type": "markdown",
   "metadata": {},
   "source": [
    "Apply transformation and normalization to TFRecord:"
   ]
  },
  {
   "cell_type": "code",
   "execution_count": 19,
   "metadata": {},
   "outputs": [],
   "source": [
    "decoded = test_all_ds.map(decode_and_resize)\n",
    "normed = decoded.map(normalize)"
   ]
  },
  {
   "cell_type": "markdown",
   "metadata": {},
   "source": [
    "Convert TFRecord to numpy array for scoring:"
   ]
  },
  {
   "cell_type": "code",
   "execution_count": 20,
   "metadata": {},
   "outputs": [],
   "source": [
    "np_img_holder = np.empty((0, 224, 224,3), float)\n",
    "np_lbl_holder = np.empty((0, 5), int)\n",
    "for img, lbl in normed:\n",
    "    r = img.numpy() # image value extracted\n",
    "    rx = np.expand_dims(r, axis=0) # expand by adding a dimension for batching images.\n",
    "    lx = np.expand_dims(lbl, axis=0) # expand by adding a dimension for batching labels.\n",
    "    np_img_holder = np.append(np_img_holder, rx, axis=0) # append each image to create a batch of images.\n",
    "    np_lbl_holder = np.append(np_lbl_holder, lx, axis=0) # append each one-hot label to create a batch of labels."
   ]
  },
  {
   "cell_type": "markdown",
   "metadata": {},
   "source": [
    "Now test data is in numpy format with standardized dimension, pixel value between 0 and 1, and batched. So are labels."
   ]
  },
  {
   "cell_type": "code",
   "execution_count": 22,
   "metadata": {},
   "outputs": [
    {
     "data": {
      "image/png": "[encoded data removed]",
      "text/plain": [
       "<Figure size 432x288 with 50 Axes>"
      ]
     },
     "metadata": {
      "needs_background": "light"
     },
     "output_type": "display_data"
    }
   ],
   "source": [
    "%matplotlib inline\n",
    "plt.figure()\n",
    "for i in range(len(np_img_holder)):\n",
    "    plt.subplot(10, 5, i+1)\n",
    "    plt.axis('off')\n",
    "    imshow(np.asarray(np_img_holder[i]))"
   ]
  },
  {
   "cell_type": "markdown",
   "metadata": {},
   "source": [
    "For single tet file scoring, we need to add a dimension to one sample. Since a given image is of shape (224, 224, 3), we need to make it into (1, 224, 224, 3) so it will be accepted by the model for scoring, as the model is built to handle batch scoring, it is expecting four dimensions with the first dimension being sample size. So let's use the first image in the batch as an example:"
   ]
  },
  {
   "cell_type": "code",
   "execution_count": 23,
   "metadata": {},
   "outputs": [],
   "source": [
    "x = np.expand_dims(np_img_holder[0], axis=0)"
   ]
  },
  {
   "cell_type": "code",
   "execution_count": 24,
   "metadata": {},
   "outputs": [
    {
     "data": {
      "text/plain": [
       "(1, 224, 224, 3)"
      ]
     },
     "execution_count": 24,
     "metadata": {},
     "output_type": "execute_result"
    }
   ],
   "source": [
    "x.shape"
   ]
  },
  {
   "cell_type": "markdown",
   "metadata": {},
   "source": [
    "Convert it to a tensor with type of float32:"
   ]
  },
  {
   "cell_type": "code",
   "execution_count": 25,
   "metadata": {},
   "outputs": [],
   "source": [
    "xf = tf.dtypes.cast(x, tf.float32)"
   ]
  },
  {
   "cell_type": "code",
   "execution_count": 26,
   "metadata": {},
   "outputs": [
    {
     "data": {
      "text/plain": [
       "tensorflow.python.framework.ops.EagerTensor"
      ]
     },
     "execution_count": 26,
     "metadata": {},
     "output_type": "execute_result"
    }
   ],
   "source": [
    "type(xf)"
   ]
  },
  {
   "cell_type": "markdown",
   "metadata": {},
   "source": [
    "## Mapping prediction to class name\n",
    "I need to create a reverse lookup dictionary to map probability back to label. In other words, I want to find the index where maximum probability is positioned in the array. Map this position index to flower type. To create the lookup dictionary, I need to parse the TFRecord with feature descriptions to extract label indices and names."
   ]
  },
  {
   "cell_type": "code",
   "execution_count": 27,
   "metadata": {},
   "outputs": [],
   "source": [
    "feature_description = {\n",
    "    'image/channels' :  tf.io.FixedLenFeature([], tf.int64),\n",
    "    'image/class/label' :  tf.io.FixedLenFeature([], tf.int64),\n",
    "    'image/class/text' : tf.io.FixedLenFeature([], tf.string),\n",
    "    'image/colorspace' : tf.io.FixedLenFeature([], tf.string),\n",
    "    'image/encoded' : tf.io.FixedLenFeature([], tf.string),\n",
    "    'image/filename' : tf.io.FixedLenFeature([], tf.string),\n",
    "    'image/format' : tf.io.FixedLenFeature([], tf.string),\n",
    "    'image/height' : tf.io.FixedLenFeature([], tf.int64),\n",
    "    'image/width' : tf.io.FixedLenFeature([], tf.int64)\n",
    "}\n",
    "\n",
    "def _parse_function(example_proto):\n",
    "  return tf.io.parse_single_example(example_proto, feature_description)\n",
    "\n",
    "parsd_ds = test_all_ds.map(_parse_function)\n",
    "\n",
    "val_label_map = {}\n",
    "# getting label mapping\n",
    "for image_features in parsd_ds.take(30):\n",
    "    label_idx = image_features['image/class/label'].numpy()\n",
    "    label_str = image_features['image/class/text'].numpy().decode()\n",
    "    if label_idx not in val_label_map:\n",
    "        val_label_map[label_idx] = label_str"
   ]
  },
  {
   "cell_type": "code",
   "execution_count": 28,
   "metadata": {},
   "outputs": [
    {
     "data": {
      "text/plain": [
       "{4: 'tulips', 3: 'dandelion', 1: 'sunflowers', 2: 'daisy', 0: 'roses'}"
      ]
     },
     "execution_count": 28,
     "metadata": {},
     "output_type": "execute_result"
    }
   ],
   "source": [
    "val_label_map"
   ]
  },
  {
   "cell_type": "markdown",
   "metadata": {},
   "source": [
    "## Scoring using quantized model\n",
    "Earlier, we created a variable `tgt` to hold the file path object that points to the path where our reduced float16 TFLite is saved."
   ]
  },
  {
   "cell_type": "code",
   "execution_count": 29,
   "metadata": {},
   "outputs": [
    {
     "data": {
      "text/plain": [
       "'tflite_hybrid_model/converted_model_hybrid.tflite'"
      ]
     },
     "execution_count": 29,
     "metadata": {},
     "output_type": "execute_result"
    }
   ],
   "source": [
    "str(tgt)"
   ]
  },
  {
   "cell_type": "code",
   "execution_count": 30,
   "metadata": {},
   "outputs": [],
   "source": [
    "##Load the TFLite model and allocate tensors.\n",
    "## tgt is the pathlib object referring to file path and <TFLITE_MODEL_NAME>.tflite\n",
    "interpreter = tf.lite.Interpreter(model_path=str(tgt))\n",
    "interpreter.allocate_tensors()"
   ]
  },
  {
   "cell_type": "code",
   "execution_count": 31,
   "metadata": {},
   "outputs": [],
   "source": [
    "# Get input and output tensors.\n",
    "input_details = interpreter.get_input_details()\n",
    "output_details = interpreter.get_output_details()"
   ]
  },
  {
   "cell_type": "code",
   "execution_count": 32,
   "metadata": {},
   "outputs": [
    {
     "data": {
      "text/plain": [
       "array([  1, 224, 224,   3], dtype=int32)"
      ]
     },
     "execution_count": 32,
     "metadata": {},
     "output_type": "execute_result"
    }
   ],
   "source": [
    "input_details[0]['shape']"
   ]
  },
  {
   "cell_type": "code",
   "execution_count": 33,
   "metadata": {},
   "outputs": [
    {
     "data": {
      "text/plain": [
       "array([1, 5], dtype=int32)"
      ]
     },
     "execution_count": 33,
     "metadata": {},
     "output_type": "execute_result"
    }
   ],
   "source": [
    "output_details[0]['shape']"
   ]
  },
  {
   "cell_type": "code",
   "execution_count": 34,
   "metadata": {},
   "outputs": [
    {
     "data": {
      "text/plain": [
       "[{'name': 'input_1',\n",
       "  'index': 0,\n",
       "  'shape': array([  1, 224, 224,   3], dtype=int32),\n",
       "  'shape_signature': array([ -1, 224, 224,   3], dtype=int32),\n",
       "  'dtype': numpy.float32,\n",
       "  'quantization': (0.0, 0),\n",
       "  'quantization_parameters': {'scales': array([], dtype=float32),\n",
       "   'zero_points': array([], dtype=int32),\n",
       "   'quantized_dimension': 0},\n",
       "  'sparsity_parameters': {}}]"
      ]
     },
     "execution_count": 34,
     "metadata": {},
     "output_type": "execute_result"
    }
   ],
   "source": [
    "input_details"
   ]
  },
  {
   "cell_type": "code",
   "execution_count": 35,
   "metadata": {},
   "outputs": [
    {
     "data": {
      "text/plain": [
       "[{'name': 'Identity',\n",
       "  'index': 269,\n",
       "  'shape': array([1, 5], dtype=int32),\n",
       "  'shape_signature': array([-1,  5], dtype=int32),\n",
       "  'dtype': numpy.float32,\n",
       "  'quantization': (0.0, 0),\n",
       "  'quantization_parameters': {'scales': array([], dtype=float32),\n",
       "   'zero_points': array([], dtype=int32),\n",
       "   'quantized_dimension': 0},\n",
       "  'sparsity_parameters': {}}]"
      ]
     },
     "execution_count": 35,
     "metadata": {},
     "output_type": "execute_result"
    }
   ],
   "source": [
    "output_details"
   ]
  },
  {
   "cell_type": "markdown",
   "metadata": {},
   "source": [
    "### Scoring single image"
   ]
  },
  {
   "cell_type": "code",
   "execution_count": 36,
   "metadata": {},
   "outputs": [],
   "source": [
    "# Test the model\n",
    "input_data = np.array(np.expand_dims(np_img_holder[0], axis=0), dtype=np.float32)\n",
    "interpreter.set_tensor(input_details[0]['index'], input_data)\n",
    "interpreter.invoke()"
   ]
  },
  {
   "cell_type": "code",
   "execution_count": 37,
   "metadata": {},
   "outputs": [
    {
     "name": "stdout",
     "output_type": "stream",
     "text": [
      "[[2.2863119e-04 2.9729056e-06 3.2464095e-06 2.0322236e-06 9.9976307e-01]]\n"
     ]
    }
   ],
   "source": [
    "# The function `get_tensor()` returns a copy of the tensor data.\n",
    "# Use `tensor()` in order to get a pointer to the tensor.\n",
    "output_data = interpreter.get_tensor(output_details[0]['index'])\n",
    "print(output_data)"
   ]
  },
  {
   "cell_type": "markdown",
   "metadata": {},
   "source": [
    "The last position has the highest probability. This position is index 4. We need to use `lookup` function to map this index to our label map."
   ]
  },
  {
   "cell_type": "code",
   "execution_count": 38,
   "metadata": {},
   "outputs": [],
   "source": [
    "def lookup(np_entry, dictionary):\n",
    "    class_key = np.argmax(np_entry)\n",
    "    return dictionary.get(class_key)"
   ]
  },
  {
   "cell_type": "markdown",
   "metadata": {},
   "source": [
    "`lookup` functio returns the class name:"
   ]
  },
  {
   "cell_type": "code",
   "execution_count": 39,
   "metadata": {},
   "outputs": [
    {
     "data": {
      "text/plain": [
       "'tulips'"
      ]
     },
     "execution_count": 39,
     "metadata": {},
     "output_type": "execute_result"
    }
   ],
   "source": [
    "lookup(output_data, val_label_map)"
   ]
  },
  {
   "cell_type": "markdown",
   "metadata": {},
   "source": [
    "The model predicts this image is `tulips` class."
   ]
  },
  {
   "cell_type": "markdown",
   "metadata": {},
   "source": [
    "### Scoring image batch\n",
    "We need to get the actual labels and put these true labels in a list."
   ]
  },
  {
   "cell_type": "code",
   "execution_count": 47,
   "metadata": {},
   "outputs": [],
   "source": [
    "actual = []\n",
    "for i in range(len(np_lbl_holder)):\n",
    "    class_key = np.argmax(np_lbl_holder[i])\n",
    "    actual.append(val_label_map.get(class_key))"
   ]
  },
  {
   "cell_type": "markdown",
   "metadata": {},
   "source": [
    "Then we create a function `batch_predict` for batch scoring."
   ]
  },
  {
   "cell_type": "code",
   "execution_count": 48,
   "metadata": {},
   "outputs": [],
   "source": [
    "def batch_predict(input_raw, input_tensor, output_tensor, dictionary):\n",
    "    input_data = np.array(np.expand_dims(input_raw, axis=0), dtype=np.float32)\n",
    "    interpreter.set_tensor(input_tensor[0]['index'], input_data)\n",
    "    interpreter.invoke()\n",
    "    interpreter_output = interpreter.get_tensor(output_tensor[0]['index'])\n",
    "    plain_text_label = lookup(interpreter_output, dictionary)\n",
    "    return plain_text_label"
   ]
  },
  {
   "cell_type": "markdown",
   "metadata": {},
   "source": [
    "We call `batch_predict` to score our test images and store predictions in a list `batch_quantized_prediction`."
   ]
  },
  {
   "cell_type": "code",
   "execution_count": 41,
   "metadata": {},
   "outputs": [],
   "source": [
    "batch_quantized_prediction = []\n",
    "for i in range(sample_size):\n",
    "    plain_text_label = batch_predict(np_img_holder[i], input_details, output_details, val_label_map)\n",
    "    batch_quantized_prediction.append(plain_text_label)"
   ]
  },
  {
   "cell_type": "markdown",
   "metadata": {},
   "source": [
    "Then we use `sklearn`'s `accuracy_score` to compare the prediction with the actual label list."
   ]
  },
  {
   "cell_type": "code",
   "execution_count": 50,
   "metadata": {},
   "outputs": [],
   "source": [
    "quantized_accuracy = accuracy_score(actual, batch_quantized_prediction)"
   ]
  },
  {
   "cell_type": "code",
   "execution_count": 51,
   "metadata": {},
   "outputs": [
    {
     "name": "stdout",
     "output_type": "stream",
     "text": [
      "0.8\n"
     ]
    }
   ],
   "source": [
    "print(quantized_accuracy)"
   ]
  },
  {
   "cell_type": "markdown",
   "metadata": {},
   "source": [
    "The accuracy of our hybrid quantization model is 0.8."
   ]
  },
  {
   "cell_type": "code",
   "execution_count": null,
   "metadata": {},
   "outputs": [],
   "source": []
  }
 ],
 "metadata": {
  "kernelspec": {
   "display_name": "Python 3",
   "language": "python",
   "name": "python3"
  },
  "language_info": {
   "codemirror_mode": {
    "name": "ipython",
    "version": 3
   },
   "file_extension": ".py",
   "mimetype": "text/x-python",
   "name": "python",
   "nbconvert_exporter": "python",
   "pygments_lexer": "ipython3",
   "version": "3.8.5"
  }
 },
 "nbformat": 4,
 "nbformat_minor": 4
}
